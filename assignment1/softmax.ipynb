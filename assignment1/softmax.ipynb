{
 "cells": [
  {
   "cell_type": "code",
   "execution_count": 2,
   "id": "ca6cf2d4",
   "metadata": {
    "tags": [
     "pdf-ignore"
    ]
   },
   "outputs": [],
   "source": [
    "import random\n",
    "import numpy as np\n",
    "from cs231n.data_utils import load_CIFAR10\n",
    "import matplotlib.pyplot as plt\n",
    "\n",
    "%matplotlib inline\n",
    "plt.rcParams['figure.figsize'] = (10.0, 8.0) # set default size of plots\n",
    "plt.rcParams['image.interpolation'] = 'nearest'\n",
    "plt.rcParams['image.cmap'] = 'gray'\n",
    "\n",
    "# for auto-reloading extenrnal modules\n",
    "# see http://stackoverflow.com/questions/1907993/autoreload-of-modules-in-ipython\n",
    "%load_ext autoreload\n",
    "%autoreload 2"
   ]
  },
  {
   "cell_type": "code",
   "execution_count": 3,
   "id": "9e9bbbbe",
   "metadata": {
    "tags": [
     "pdf-ignore"
    ]
   },
   "outputs": [
    {
     "name": "stdout",
     "output_type": "stream",
     "text": [
      "Train data shape:  (49000, 3073)\n",
      "Train labels shape:  (49000,)\n",
      "Validation data shape:  (1000, 3073)\n",
      "Validation labels shape:  (1000,)\n",
      "Test data shape:  (1000, 3073)\n",
      "Test labels shape:  (1000,)\n",
      "dev data shape:  (500, 3073)\n",
      "dev labels shape:  (500,)\n"
     ]
    }
   ],
   "source": [
    "def get_CIFAR10_data(num_training=49000, num_validation=1000, num_test=1000, num_dev=500):\n",
    "    \"\"\"\n",
    "    Load the CIFAR-10 dataset from disk and perform preprocessing to prepare\n",
    "    it for the linear classifier. These are the same steps as we used for the\n",
    "    SVM, but condensed to a single function.  \n",
    "    \"\"\"\n",
    "    # Load the raw CIFAR-10 data\n",
    "    cifar10_dir = 'cs231n/datasets/cifar-10-batches-py'\n",
    "    \n",
    "    # Cleaning up variables to prevent loading data multiple times (which may cause memory issue)\n",
    "    try:\n",
    "       del X_train, y_train\n",
    "       del X_test, y_test\n",
    "       print('Clear previously loaded data.')\n",
    "    except:\n",
    "       pass\n",
    "\n",
    "    X_train, y_train, X_test, y_test = load_CIFAR10(cifar10_dir)\n",
    "    \n",
    "    # subsample the data\n",
    "    mask = list(range(num_training, num_training + num_validation))\n",
    "    X_val = X_train[mask]\n",
    "    y_val = y_train[mask]\n",
    "    mask = list(range(num_training))\n",
    "    X_train = X_train[mask]\n",
    "    y_train = y_train[mask]\n",
    "    mask = list(range(num_test))\n",
    "    X_test = X_test[mask]\n",
    "    y_test = y_test[mask]\n",
    "    mask = np.random.choice(num_training, num_dev, replace=False)\n",
    "    X_dev = X_train[mask]\n",
    "    y_dev = y_train[mask]\n",
    "    \n",
    "    # Preprocessing: reshape the image data into rows\n",
    "    X_train = np.reshape(X_train, (X_train.shape[0], -1))\n",
    "    X_val = np.reshape(X_val, (X_val.shape[0], -1))\n",
    "    X_test = np.reshape(X_test, (X_test.shape[0], -1))\n",
    "    X_dev = np.reshape(X_dev, (X_dev.shape[0], -1))\n",
    "    \n",
    "    # Normalize the data: subtract the mean image\n",
    "    mean_image = np.mean(X_train, axis = 0)\n",
    "    X_train -= mean_image\n",
    "    X_val -= mean_image\n",
    "    X_test -= mean_image\n",
    "    X_dev -= mean_image\n",
    "    \n",
    "    # add bias dimension and transform into columns\n",
    "    X_train = np.hstack([X_train, np.ones((X_train.shape[0], 1))])\n",
    "    X_val = np.hstack([X_val, np.ones((X_val.shape[0], 1))])\n",
    "    X_test = np.hstack([X_test, np.ones((X_test.shape[0], 1))])\n",
    "    X_dev = np.hstack([X_dev, np.ones((X_dev.shape[0], 1))])\n",
    "    \n",
    "    return X_train, y_train, X_val, y_val, X_test, y_test, X_dev, y_dev\n",
    "\n",
    "\n",
    "# Invoke the above function to get our data.\n",
    "X_train, y_train, X_val, y_val, X_test, y_test, X_dev, y_dev = get_CIFAR10_data()\n",
    "print('Train data shape: ', X_train.shape)\n",
    "print('Train labels shape: ', y_train.shape)\n",
    "print('Validation data shape: ', X_val.shape)\n",
    "print('Validation labels shape: ', y_val.shape)\n",
    "print('Test data shape: ', X_test.shape)\n",
    "print('Test labels shape: ', y_test.shape)\n",
    "print('dev data shape: ', X_dev.shape)\n",
    "print('dev labels shape: ', y_dev.shape)"
   ]
  },
  {
   "attachments": {},
   "cell_type": "markdown",
   "id": "d4c3fb04",
   "metadata": {},
   "source": [
    "## Softmax Classifier\n",
    "\n",
    "Your code for this section will all be written inside `cs231n/classifiers/softmax.py`.\n"
   ]
  },
  {
   "cell_type": "code",
   "execution_count": 4,
   "id": "25f2e5e1",
   "metadata": {},
   "outputs": [
    {
     "name": "stdout",
     "output_type": "stream",
     "text": [
      "loss: 2.404099\n",
      "sanity check: 2.302585\n"
     ]
    }
   ],
   "source": [
    "# First implement the naive softmax loss function with nested loops.\n",
    "# Open the file cs231n/classifiers/softmax.py and implement the\n",
    "# softmax_loss_naive function.\n",
    "\n",
    "from cs231n.classifiers.softmax import softmax_loss_naive\n",
    "import time\n",
    "\n",
    "# Generate a random softmax weight matrix and use it to compute the loss.\n",
    "W = np.random.randn(3073, 10) * 0.0001\n",
    "loss, grad = softmax_loss_naive(W, X_dev, y_dev, 0.0)\n",
    "\n",
    "# As a rough sanity check, our loss should be something close to -log(0.1).\n",
    "print('loss: %f' % loss)\n",
    "print('sanity check: %f' % (-np.log(0.1)))"
   ]
  },
  {
   "attachments": {},
   "cell_type": "markdown",
   "id": "15ebc638",
   "metadata": {
    "tags": [
     "pdf-inline"
    ]
   },
   "source": [
    "**Inline Question 1**\n",
    "\n",
    "Why do we expect our loss to be close to -log(0.1)? Explain briefly.**\n",
    "\n",
    "$\\color{blue}{\\textit Your Answer:}$ *Fill this in* \n",
    "\n"
   ]
  },
  {
   "cell_type": "code",
   "execution_count": 13,
   "id": "a8cb3eb1",
   "metadata": {},
   "outputs": [
    {
     "name": "stdout",
     "output_type": "stream",
     "text": [
      "numerical: -1.671242 analytic: -1.671242, relative error: 2.074631e-08\n",
      "numerical: -1.533288 analytic: -1.533288, relative error: 6.254773e-08\n",
      "numerical: 0.732374 analytic: 0.732374, relative error: 1.447526e-08\n",
      "numerical: 0.890913 analytic: 0.890913, relative error: 9.888359e-10\n",
      "numerical: -2.940654 analytic: -2.940654, relative error: 2.078353e-09\n",
      "numerical: 0.706207 analytic: 0.706207, relative error: 1.365869e-07\n",
      "numerical: 0.728226 analytic: 0.728226, relative error: 2.140034e-08\n",
      "numerical: -1.970444 analytic: -1.970444, relative error: 2.704553e-08\n",
      "numerical: 3.380025 analytic: 3.380025, relative error: 5.793506e-09\n",
      "numerical: -2.140934 analytic: -2.140934, relative error: 1.492210e-08\n",
      "numerical: 5.136335 analytic: 5.134475, relative error: 1.810484e-04\n",
      "numerical: 0.042503 analytic: 0.046319, relative error: 4.296388e-02\n",
      "numerical: 1.774669 analytic: 1.771350, relative error: 9.360811e-04\n",
      "numerical: -0.285771 analytic: -0.277529, relative error: 1.463194e-02\n",
      "numerical: 1.053821 analytic: 1.050311, relative error: 1.668172e-03\n",
      "numerical: 0.642937 analytic: 0.634580, relative error: 6.541864e-03\n",
      "numerical: 1.426260 analytic: 1.444673, relative error: 6.413649e-03\n",
      "numerical: 1.012618 analytic: 1.002450, relative error: 5.046349e-03\n",
      "numerical: -2.265019 analytic: -2.270996, relative error: 1.317640e-03\n",
      "numerical: -1.809223 analytic: -1.806946, relative error: 6.295761e-04\n"
     ]
    }
   ],
   "source": [
    "# Complete the implementation of softmax_loss_naive and implement a (naive)\n",
    "# version of the gradient that uses nested loops.\n",
    "loss, grad = softmax_loss_naive(W, X_dev, y_dev, 0.0)\n",
    "\n",
    "# As we did for the SVM, use numeric gradient checking as a debugging tool.\n",
    "# The numeric gradient should be close to the analytic gradient.\n",
    "from cs231n.gradient_check import grad_check_sparse\n",
    "f = lambda w: softmax_loss_naive(w, X_dev, y_dev, 0.0)[0]\n",
    "grad_numerical = grad_check_sparse(f, W, grad, 10)\n",
    "\n",
    "# similar to SVM case, do another gradient check with regularization\n",
    "loss, grad = softmax_loss_naive(W, X_dev, y_dev, 5e1)\n",
    "f = lambda w: softmax_loss_naive(w, X_dev, y_dev, 5e1)[0]\n",
    "grad_numerical = grad_check_sparse(f, W, grad, 10)"
   ]
  },
  {
   "cell_type": "code",
   "execution_count": 16,
   "id": "4a4a81d4",
   "metadata": {},
   "outputs": [
    {
     "name": "stdout",
     "output_type": "stream",
     "text": [
      "naive loss: 2.404099e+00 computed in 0.025841s\n",
      "vectorized loss: 2.404099e+00 computed in 0.002004s\n",
      "Loss difference: 0.000000\n",
      "Gradient difference: 0.000000\n"
     ]
    }
   ],
   "source": [
    "# Now that we have a naive implementation of the softmax loss function and its gradient,\n",
    "# implement a vectorized version in softmax_loss_vectorized.\n",
    "# The two versions should compute the same results, but the vectorized version should be\n",
    "# much faster.\n",
    "tic = time.time()\n",
    "loss_naive, grad_naive = softmax_loss_naive(W, X_dev, y_dev, 0.000005)\n",
    "toc = time.time()\n",
    "print('naive loss: %e computed in %fs' % (loss_naive, toc - tic))\n",
    "\n",
    "from cs231n.classifiers.softmax import softmax_loss_vectorized\n",
    "tic = time.time()\n",
    "loss_vectorized, grad_vectorized = softmax_loss_vectorized(W, X_dev, y_dev, 0.000005)\n",
    "toc = time.time()\n",
    "print('vectorized loss: %e computed in %fs' % (loss_vectorized, toc - tic))\n",
    "\n",
    "# As we did for the SVM, we use the Frobenius norm to compare the two versions\n",
    "# of the gradient.\n",
    "grad_difference = np.linalg.norm(grad_naive - grad_vectorized, ord='fro')\n",
    "print('Loss difference: %f' % np.abs(loss_naive - loss_vectorized))\n",
    "print('Gradient difference: %f' % grad_difference)"
   ]
  },
  {
   "cell_type": "code",
   "execution_count": 17,
   "id": "a3453536",
   "metadata": {
    "tags": [
     "code"
    ],
    "test": "tuning"
   },
   "outputs": [
    {
     "name": "stdout",
     "output_type": "stream",
     "text": [
      "lr 5.000000e-08 reg 5.000000e+03 train accuracy: 0.156449 val accuracy: 0.148000\n",
      "lr 5.000000e-08 reg 7.500000e+03 train accuracy: 0.130163 val accuracy: 0.128000\n",
      "lr 5.000000e-08 reg 1.000000e+04 train accuracy: 0.150245 val accuracy: 0.132000\n",
      "lr 5.000000e-08 reg 2.500000e+04 train accuracy: 0.154592 val accuracy: 0.138000\n",
      "lr 5.000000e-08 reg 5.000000e+04 train accuracy: 0.144184 val accuracy: 0.138000\n",
      "lr 5.000000e-08 reg 7.500000e+04 train accuracy: 0.186551 val accuracy: 0.173000\n",
      "lr 5.000000e-08 reg 1.000000e+05 train accuracy: 0.231490 val accuracy: 0.235000\n",
      "lr 5.000000e-08 reg 2.500000e+05 train accuracy: 0.264796 val accuracy: 0.284000\n",
      "lr 5.000000e-08 reg 5.000000e+05 train accuracy: 0.265939 val accuracy: 0.278000\n",
      "lr 1.000000e-07 reg 5.000000e+03 train accuracy: 0.165592 val accuracy: 0.167000\n",
      "lr 1.000000e-07 reg 7.500000e+03 train accuracy: 0.178776 val accuracy: 0.180000\n",
      "lr 1.000000e-07 reg 1.000000e+04 train accuracy: 0.171980 val accuracy: 0.182000\n",
      "lr 1.000000e-07 reg 2.500000e+04 train accuracy: 0.191265 val accuracy: 0.210000\n",
      "lr 1.000000e-07 reg 5.000000e+04 train accuracy: 0.244306 val accuracy: 0.255000\n",
      "lr 1.000000e-07 reg 7.500000e+04 train accuracy: 0.274857 val accuracy: 0.279000\n",
      "lr 1.000000e-07 reg 1.000000e+05 train accuracy: 0.286939 val accuracy: 0.309000\n",
      "lr 1.000000e-07 reg 2.500000e+05 train accuracy: 0.263633 val accuracy: 0.281000\n",
      "lr 1.000000e-07 reg 5.000000e+05 train accuracy: 0.248531 val accuracy: 0.263000\n",
      "lr 5.000000e-07 reg 5.000000e+03 train accuracy: 0.284041 val accuracy: 0.310000\n",
      "lr 5.000000e-07 reg 7.500000e+03 train accuracy: 0.309939 val accuracy: 0.315000\n",
      "lr 5.000000e-07 reg 1.000000e+04 train accuracy: 0.331265 val accuracy: 0.348000\n",
      "lr 5.000000e-07 reg 2.500000e+04 train accuracy: 0.335776 val accuracy: 0.341000\n",
      "lr 5.000000e-07 reg 5.000000e+04 train accuracy: 0.305816 val accuracy: 0.320000\n",
      "lr 5.000000e-07 reg 7.500000e+04 train accuracy: 0.291816 val accuracy: 0.299000\n",
      "lr 5.000000e-07 reg 1.000000e+05 train accuracy: 0.282714 val accuracy: 0.285000\n",
      "lr 5.000000e-07 reg 2.500000e+05 train accuracy: 0.249592 val accuracy: 0.267000\n",
      "lr 5.000000e-07 reg 5.000000e+05 train accuracy: 0.230286 val accuracy: 0.250000\n",
      "lr 1.000000e-06 reg 5.000000e+03 train accuracy: 0.354306 val accuracy: 0.377000\n",
      "lr 1.000000e-06 reg 7.500000e+03 train accuracy: 0.347184 val accuracy: 0.366000\n",
      "lr 1.000000e-06 reg 1.000000e+04 train accuracy: 0.339857 val accuracy: 0.349000\n",
      "lr 1.000000e-06 reg 2.500000e+04 train accuracy: 0.318184 val accuracy: 0.333000\n",
      "lr 1.000000e-06 reg 5.000000e+04 train accuracy: 0.298714 val accuracy: 0.303000\n",
      "lr 1.000000e-06 reg 7.500000e+04 train accuracy: 0.287408 val accuracy: 0.295000\n",
      "lr 1.000000e-06 reg 1.000000e+05 train accuracy: 0.278857 val accuracy: 0.292000\n",
      "lr 1.000000e-06 reg 2.500000e+05 train accuracy: 0.265469 val accuracy: 0.270000\n",
      "lr 1.000000e-06 reg 5.000000e+05 train accuracy: 0.214633 val accuracy: 0.210000\n",
      "lr 5.000000e-06 reg 5.000000e+03 train accuracy: 0.282020 val accuracy: 0.290000\n",
      "lr 5.000000e-06 reg 7.500000e+03 train accuracy: 0.279939 val accuracy: 0.289000\n",
      "lr 5.000000e-06 reg 1.000000e+04 train accuracy: 0.269469 val accuracy: 0.291000\n",
      "lr 5.000000e-06 reg 2.500000e+04 train accuracy: 0.219571 val accuracy: 0.225000\n",
      "lr 5.000000e-06 reg 5.000000e+04 train accuracy: 0.131184 val accuracy: 0.129000\n",
      "lr 5.000000e-06 reg 7.500000e+04 train accuracy: 0.136449 val accuracy: 0.143000\n",
      "lr 5.000000e-06 reg 1.000000e+05 train accuracy: 0.066122 val accuracy: 0.054000\n"
     ]
    },
    {
     "name": "stderr",
     "output_type": "stream",
     "text": [
      "d:\\Simon\\Dev\\CS231n\\assignment1\\cs231n\\classifiers\\softmax.py:96: RuntimeWarning: divide by zero encountered in log\n",
      "  L = -np.log(correct_exp_sm / exp_sum_sm)\n"
     ]
    },
    {
     "name": "stdout",
     "output_type": "stream",
     "text": [
      "lr 5.000000e-06 reg 2.500000e+05 train accuracy: 0.111796 val accuracy: 0.122000\n",
      "lr 5.000000e-06 reg 5.000000e+05 train accuracy: 0.132265 val accuracy: 0.120000\n",
      "best validation accuracy achieved during cross-validation: 0.377000\n"
     ]
    }
   ],
   "source": [
    "# Use the validation set to tune hyperparameters (regularization strength and\n",
    "# learning rate). You should experiment with different ranges for the learning\n",
    "# rates and regularization strengths; if you are careful you should be able to\n",
    "# get a classification accuracy of over 0.35 on the validation set.\n",
    "\n",
    "from cs231n.classifiers import Softmax\n",
    "results = {}\n",
    "best_val = -1\n",
    "best_softmax = None\n",
    "\n",
    "################################################################################\n",
    "# TODO:                                                                        #\n",
    "# Use the validation set to set the learning rate and regularization strength. #\n",
    "# This should be identical to the validation that you did for the SVM; save    #\n",
    "# the best trained softmax classifer in best_softmax.                          #\n",
    "################################################################################\n",
    "\n",
    "# Provided as a reference. You may or may not want to change these hyperparameters\n",
    "for lr in [5e-8, 1e-7, 5e-7, 1e-6, 5e-6]:\n",
    "    # instead of   np.linspace(learning_rates[0], learning_rates[1], num=5)\n",
    "    for reg in [5e3, 7.5e3, 1e4, 2.5e4, 5e4, 7.5e4, 1e5, 2.5e5, 5e5]:\n",
    "    # instead of   np.linspace(regularization_strengths[0], regularization_strengths[1], num=5)\n",
    "        softmax_clf = Softmax()\n",
    "        softmax_clf.train(X_train, y_train, learning_rate=lr, reg=reg, num_iters=200)\n",
    "        y_train_pred = softmax_clf.predict(X_train)\n",
    "        y_val_pred = softmax_clf.predict(X_val)\n",
    "        train_acc = np.mean(y_train_pred == y_train)\n",
    "        val_acc = np.mean(y_val_pred == y_val)\n",
    "        \n",
    "        print('lr %e reg %e train accuracy: %f val accuracy: %f' % (\n",
    "                lr, reg, train_acc, val_acc))\n",
    "        \n",
    "        if val_acc > best_val:\n",
    "            best_val = val_acc\n",
    "            best_softmax = softmax_clf\n",
    "\n",
    "# *****START OF YOUR CODE (DO NOT DELETE/MODIFY THIS LINE)*****\n",
    "\n",
    "pass\n",
    "\n",
    "# *****END OF YOUR CODE (DO NOT DELETE/MODIFY THIS LINE)*****\n",
    "    \n",
    "# Print out results.\n",
    "for lr, reg in sorted(results):\n",
    "    train_accuracy, val_accuracy = results[(lr, reg)]\n",
    "    print('lr %e reg %e train accuracy: %f val accuracy: %f' % (\n",
    "                lr, reg, train_accuracy, val_accuracy))\n",
    "    \n",
    "print('best validation accuracy achieved during cross-validation: %f' % best_val)"
   ]
  },
  {
   "cell_type": "code",
   "execution_count": 19,
   "id": "8a1f9db3",
   "metadata": {
    "test": "test"
   },
   "outputs": [
    {
     "name": "stdout",
     "output_type": "stream",
     "text": [
      "softmax on raw pixels final test set accuracy: 0.339000\n"
     ]
    }
   ],
   "source": [
    "# evaluate on test set\n",
    "# Evaluate the best softmax on test set\n",
    "y_test_pred = best_softmax.predict(X_test)\n",
    "test_accuracy = np.mean(y_test == y_test_pred)\n",
    "print('softmax on raw pixels final test set accuracy: %f' % (test_accuracy, ))"
   ]
  },
  {
   "attachments": {},
   "cell_type": "markdown",
   "id": "86b9b65c",
   "metadata": {
    "tags": [
     "pdf-inline"
    ]
   },
   "source": [
    "**Inline Question 2** - *True or False*\n",
    "\n",
    "Suppose the overall training loss is defined as the sum of the per-datapoint loss over all training examples. It is possible to add a new datapoint to a training set that would leave the SVM loss unchanged, but this is not the case with the Softmax classifier loss.\n",
    "\n",
    "$\\color{blue}{\\textit Your Answer:}$ True\n",
    "\n",
    "\n",
    "$\\color{blue}{\\textit Your Explanation:}$ Softmax is based on probabilities, so the loss is always changing. SVM is based on margins, so the loss is not always changing.\n",
    "\n"
   ]
  },
  {
   "cell_type": "code",
   "execution_count": 20,
   "id": "009f08b9",
   "metadata": {},
   "outputs": [
    {
     "data": {
      "image/png": "[encoded data removed]",
      "text/plain": [
       "<Figure size 1000x800 with 10 Axes>"
      ]
     },
     "metadata": {},
     "output_type": "display_data"
    }
   ],
   "source": [
    "# Visualize the learned weights for each class\n",
    "w = best_softmax.W[:-1,:] # strip out the bias\n",
    "w = w.reshape(32, 32, 3, 10)\n",
    "\n",
    "w_min, w_max = np.min(w), np.max(w)\n",
    "\n",
    "classes = ['plane', 'car', 'bird', 'cat', 'deer', 'dog', 'frog', 'horse', 'ship', 'truck']\n",
    "for i in range(10):\n",
    "    plt.subplot(2, 5, i + 1)\n",
    "    \n",
    "    # Rescale the weights to be between 0 and 255\n",
    "    wimg = 255.0 * (w[:, :, :, i].squeeze() - w_min) / (w_max - w_min)\n",
    "    plt.imshow(wimg.astype('uint8'))\n",
    "    plt.axis('off')\n",
    "    plt.title(classes[i])"
   ]
  },
  {
   "attachments": {},
   "cell_type": "markdown",
   "id": "3569b36b",
   "metadata": {},
   "source": [
    "DONE"
   ]
  },
  {
   "attachments": {},
   "cell_type": "markdown",
   "id": "ee8cd616",
   "metadata": {},
   "source": []
  }
 ],
 "metadata": {
  "kernelspec": {
   "display_name": "pytorch",
   "language": "python",
   "name": "python3"
  },
  "language_info": {
   "codemirror_mode": {
    "name": "ipython",
    "version": 3
   },
   "file_extension": ".py",
   "mimetype": "text/x-python",
   "name": "python",
   "nbconvert_exporter": "python",
   "pygments_lexer": "ipython3",
   "version": "3.8.15"
  }
 },
 "nbformat": 4,
 "nbformat_minor": 5
}
